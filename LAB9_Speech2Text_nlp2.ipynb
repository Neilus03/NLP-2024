{
 "cells": [
  {
   "cell_type": "markdown",
   "metadata": {},
   "source": [
    "# LAB 9 - Speech to Text "
   ]
  },
  {
   "cell_type": "markdown",
   "metadata": {},
   "source": [
    "## Exercise 1: Load the LibriSpeech dataset "
   ]
  },
  {
   "cell_type": "code",
   "execution_count": 1,
   "metadata": {},
   "outputs": [],
   "source": [
    "from datasets import load_dataset\n",
    "\n",
    "# Load the validation split of the clean subset of the LibriSpeech dataset\n",
    "dataset = load_dataset(\"distil-whisper/librispeech_long\", \"clean\", split=\"validation\")\n",
    "\n",
    "# Example: Print the first sample from the validation dataset\n",
    "first_sample = dataset[0]\n",
    "\n"
   ]
  },
  {
   "cell_type": "code",
   "execution_count": 2,
   "metadata": {},
   "outputs": [
    {
     "data": {
      "text/plain": [
       "dict_keys(['audio'])"
      ]
     },
     "execution_count": 2,
     "metadata": {},
     "output_type": "execute_result"
    }
   ],
   "source": [
    "#Check which arguments the first sample has\n",
    "first_sample.keys()"
   ]
  },
  {
   "cell_type": "code",
   "execution_count": 3,
   "metadata": {},
   "outputs": [
    {
     "data": {
      "text/plain": [
       "{'path': '0d38672e0bbdbdc460af55b8bb84a15b2730db2819f2af64f9c777d4d586f2de',\n",
       " 'array': array([0.00238037, 0.0020752 , 0.00198364, ..., 0.00024414, 0.00048828,\n",
       "        0.0005188 ]),\n",
       " 'sampling_rate': 16000}"
      ]
     },
     "execution_count": 3,
     "metadata": {},
     "output_type": "execute_result"
    }
   ],
   "source": [
    "#Check what's inside the audio argument\n",
    "first_sample['audio']"
   ]
  },
  {
   "cell_type": "markdown",
   "metadata": {},
   "source": [
    "## Exercise 2: Use the Whisper large v3 model for speech recognition"
   ]
  },
  {
   "cell_type": "code",
   "execution_count": 4,
   "metadata": {},
   "outputs": [
    {
     "name": "stderr",
     "output_type": "stream",
     "text": [
      "/export/hhome/nlp2_g09/Project/.conda/lib/python3.11/site-packages/huggingface_hub/file_download.py:1132: FutureWarning: `resume_download` is deprecated and will be removed in version 1.0.0. Downloads always resume when possible. If you want to force a new download, use `force_download=True`.\n",
      "  warnings.warn(\n",
      "Special tokens have been added in the vocabulary, make sure the associated word embeddings are fine-tuned or trained.\n",
      "Due to a bug fix in https://github.com/huggingface/transformers/pull/28687 transcription using a multilingual Whisper will default to language detection followed by transcription instead of translation to English.This might be a breaking change for your use case. If you want to instead always translate your audio to English, make sure to pass `language='en'`.\n"
     ]
    },
    {
     "name": "stdout",
     "output_type": "stream",
     "text": [
      "Transcription:  Mr. Quilter is the apostle of the middle classes, and we are glad to welcome his gospel. Nor is Mr. Quilter's manner less interesting than his matter. He tells us that at this festive season of the year, with Christmas and roast beef looming before us, similes drawn from eating and its results occur most readily to the mind. He has grave doubts whether Sir Frederick Leighton's work is really Greek after all,\n"
     ]
    }
   ],
   "source": [
    "from transformers import WhisperProcessor, WhisperForConditionalGeneration\n",
    "import torch\n",
    "import torchaudio\n",
    "\n",
    "# Load the Whisper large v3 model and processor\n",
    "model_id = 'openai/whisper-large-v3'\n",
    "processor = WhisperProcessor.from_pretrained(model_id)\n",
    "model = WhisperForConditionalGeneration.from_pretrained(model_id)\n",
    "\n",
    "# Function to process audio and perform speech recognition\n",
    "def transcribe(audio_array, sampling_rate):\n",
    "    '''\n",
    "    Transcribes the given audio array using a speech-to-text model.\n",
    "\n",
    "    Args:\n",
    "        audio_array (numpy.ndarray): The audio waveform as a numpy array.\n",
    "        sampling_rate (int): The sampling rate of the audio.\n",
    "\n",
    "    Returns:\n",
    "        str: The transcription of the audio.\n",
    "\n",
    "    '''\n",
    "    # Resample the audio to 16kHz if necessary\n",
    "    if sampling_rate != 16000:\n",
    "        resampler = torchaudio.transforms.Resample(sampling_rate, 16000)\n",
    "        audio_array = resampler(torch.tensor(audio_array).unsqueeze(0)).squeeze().numpy()\n",
    "\n",
    "    # Process the audio\n",
    "    inputs = processor(audio_array, return_tensors=\"pt\", sampling_rate=16000)\n",
    "    \n",
    "    # Generate the transcription\n",
    "    with torch.no_grad():\n",
    "        generated_ids = model.generate(inputs.input_features, max_length = 256)\n",
    "        transcription = processor.batch_decode(generated_ids, skip_special_tokens=True)[0]\n",
    "    \n",
    "    return transcription\n",
    "\n",
    "# Example: Transcribe the first sample in the dataset\n",
    "first_sample = dataset[0]\n",
    "audio_array = first_sample['audio']['array']\n",
    "sampling_rate = first_sample['audio']['sampling_rate']\n",
    "transcription = transcribe(audio_array, sampling_rate)\n",
    "print(f\"Transcription: {transcription}\")\n"
   ]
  },
  {
   "cell_type": "code",
   "execution_count": 5,
   "metadata": {},
   "outputs": [
    {
     "name": "stderr",
     "output_type": "stream",
     "text": [
      "/export/hhome/nlp2_g09/Project/.conda/lib/python3.11/site-packages/datasets/load.py:1486: FutureWarning: The repository for hf-internal-testing/librispeech_asr_dummy contains custom code which must be executed to correctly load the dataset. You can inspect the repository content at https://hf.co/datasets/hf-internal-testing/librispeech_asr_dummy\n",
      "You can avoid this message in future by passing the argument `trust_remote_code=True`.\n",
      "Passing `trust_remote_code=True` will be mandatory to load this dataset from the next major release of `datasets`.\n",
      "  warnings.warn(\n"
     ]
    }
   ],
   "source": [
    "#Load a new dataset that contain ground truth for the transcriptions \n",
    "dataset = load_dataset(\"hf-internal-testing/librispeech_asr_dummy\", \"clean\", split=\"validation\")"
   ]
  },
  {
   "cell_type": "code",
   "execution_count": 6,
   "metadata": {},
   "outputs": [
    {
     "data": {
      "text/plain": [
       "dict_keys(['file', 'audio', 'text', 'speaker_id', 'chapter_id', 'id'])"
      ]
     },
     "execution_count": 6,
     "metadata": {},
     "output_type": "execute_result"
    }
   ],
   "source": [
    "#Check the arguments of the new dataset samples\n",
    "dataset[0].keys()"
   ]
  },
  {
   "cell_type": "code",
   "execution_count": 7,
   "metadata": {},
   "outputs": [
    {
     "data": {
      "text/plain": [
       "'MISTER QUILTER IS THE APOSTLE OF THE MIDDLE CLASSES AND WE ARE GLAD TO WELCOME HIS GOSPEL'"
      ]
     },
     "execution_count": 7,
     "metadata": {},
     "output_type": "execute_result"
    }
   ],
   "source": [
    "#Check a sample of a text transcription\n",
    "dataset[0]['text']"
   ]
  },
  {
   "cell_type": "code",
   "execution_count": 8,
   "metadata": {},
   "outputs": [],
   "source": [
    "# Create an empty list to store the ground truth transcriptions\n",
    "gt_list = []\n",
    "\n",
    "# Iterate over the first 30 samples in the dataset\n",
    "for idx in range(30):\n",
    "    # Get the text transcription from the dataset and convert it to lowercase\n",
    "    txt_array = dataset[idx]['text']\n",
    "    gt_list.append(txt_array.lower())"
   ]
  },
  {
   "cell_type": "code",
   "execution_count": 9,
   "metadata": {},
   "outputs": [
    {
     "data": {
      "text/plain": [
       "['mister quilter is the apostle of the middle classes and we are glad to welcome his gospel',\n",
       " \"nor is mister quilter's manner less interesting than his matter\",\n",
       " 'he tells us that at this festive season of the year with christmas and roast beef looming before us similes drawn from eating and its results occur most readily to the mind',\n",
       " \"he has grave doubts whether sir frederick leighton's work is really greek after all and can discover in it but little of rocky ithaca\",\n",
       " \"linnell's pictures are a sort of up guards and at em paintings and mason's exquisite idylls are as national as a jingo poem mister birket foster's landscapes smile at one much in the same way that mister carker used to flash his teeth and mister john collier gives his sitter a cheerful slap on the back before he says like a shampooer in a turkish bath next man\",\n",
       " 'it is obviously unnecessary for us to point out how luminous these criticisms are how delicate in expression',\n",
       " 'on the general principles of art mister quilter writes with equal lucidity',\n",
       " 'painting he tells us is of a different quality to mathematics and finish in art is adding more fact',\n",
       " 'as for etchings they are of two kinds british and foreign',\n",
       " 'he laments most bitterly the divorce that has been made between decorative art and what we usually call pictures makes the customary appeal to the last judgment and reminds us that in the great days of art michael angelo was the furnishing upholsterer',\n",
       " 'near the fire and the ornaments fred brought home from india on the mantel board',\n",
       " 'in fact he is quite severe on mister ruskin for not recognising that a picture should denote the frailty of man and remarks with pleasing courtesy and felicitous grace that many phases of feeling',\n",
       " 'only unfortunately his own work never does get good',\n",
       " 'mister quilter has missed his chance for he has failed even to make himself the tupper of painting',\n",
       " 'by harry quilter m a',\n",
       " 'because you were sleeping instead of conquering the lovely rose princess has become a fiddle without a bow while poor shaggy sits there a cooing dove',\n",
       " 'he has gone and gone for good answered polychrome who had managed to squeeze into the room beside the dragon and had witnessed the occurrences with much interest',\n",
       " 'i have remained a prisoner only because i wished to be one and with this he stepped forward and burst the stout chains as easily as if they had been threads',\n",
       " 'the little girl had been asleep but she heard the raps and opened the door',\n",
       " 'the king has fled in disgrace and your friends are asking for you',\n",
       " 'i begged ruggedo long ago to send him away but he would not do so',\n",
       " 'i also offered to help your brother to escape but he would not go',\n",
       " 'he eats and sleeps very steadily replied the new king',\n",
       " \"i hope he doesn't work too hard said shaggy\",\n",
       " \"he doesn't work at all\",\n",
       " 'in fact there is nothing he can do in these dominions as well as our nomes whose numbers are so great that it worries us to keep them all busy',\n",
       " 'not exactly returned kaliko',\n",
       " 'where is my brother now',\n",
       " 'inquired shaggy in the metal forest',\n",
       " 'where is that']"
      ]
     },
     "execution_count": 9,
     "metadata": {},
     "output_type": "execute_result"
    }
   ],
   "source": [
    "#Check that the content in the ground truth list is correct\n",
    "gt_list"
   ]
  },
  {
   "cell_type": "code",
   "execution_count": 10,
   "metadata": {},
   "outputs": [
    {
     "name": "stdout",
     "output_type": "stream",
     "text": [
      "dataset 73 dict_keys(['file', 'audio', 'text', 'speaker_id', 'chapter_id', 'id'])\n",
      "Transcription0:  Mr. Quilter is the apostle of the middle classes, and we are glad to welcome his gospel.\n",
      "Transcription1:  Nor is Mr. Quilter's manner less interesting than his matter.\n",
      "Transcription2:  he tells us that at this festive season of the year with christmas and roast beef looming before us similes drawn from eating and its results occur most readily to the mind\n",
      "Transcription3:  He has grave doubts whether Sir Frederick Leighton's work is really Greek after all, and can discover in it but little of rocky Ithaca.\n",
      "Transcription4:  linnell's pictures are a sort of up guards and adam paintings and mason's exquisite idylls are as national as a jingo poem mr burkett foster's landscapes smile at one much in the same way that mr carker used to flash his teeth and mr john collier gives his sitter a cheerful slap on the back before he says like a shampooer in a turkish bath next man\n",
      "Transcription5:  It is obviously unnecessary for us to point out how luminous these criticisms are, how delicate in expression.\n",
      "Transcription6:  On the general principles of art, Mr. Quilter writes with equal lucidity.\n",
      "Transcription7:  Painting, he tells us, is of a different quality to mathematics, and finish in art is adding more fact.\n",
      "Transcription8:  As for etchings, they are of two kinds, British and foreign.\n",
      "Transcription9:  he laments most bitterly the divorce that has been made between decorative art and what we usually call pictures makes a customary appeal to the last judgment and reminds us that in the great days of art michael angelo was the furnishing upholsterer\n",
      "Transcription10:  near the fire, and the ornaments Fred brought home from India on the mental board.\n",
      "Transcription11:  in fact he is quite severe on mr ruskin for not recognizing that a picture should denote the frailty of man and remarks with pleasing courtesy and felicitous grace that many phases of feeling\n",
      "Transcription12:  Only, unfortunately, his own work never does get good.\n",
      "Transcription13:  Mr. Quilter has missed his chance, for he has failed even to make himself the tupper of painting.\n",
      "Transcription14:  by Harry Quilter, M.A.\n",
      "Transcription15:  because you are sleeping instead of conquering the lovely rose princess has become a fiddle without a bow while poor shaggy sits there a cooing dove\n",
      "Transcription16:  he has gone and gone for good answered polychrome who had managed to squeeze into the room beside the dragon and had witnessed the occurrences with much interest\n",
      "Transcription17:  i have remained a prisoner only because i wished to be one and with this he stepped forward and burst the stout chains as easily as if they had been threads\n",
      "Transcription18:  The little girl had been asleep, but she heard the raps and opened the door.\n",
      "Transcription19:  The king is fled in disgrace and your friends are asking for you.\n",
      "Transcription20:  I begged Ruggedo long ago to send him away, but he would not do so.\n",
      "Transcription21:  I also offered to help your brother to escape, but he would not go.\n",
      "Transcription22:  \"'He eats and sleeps very steadily,' replied the new king.\"\n",
      "Transcription23:  I hope it doesn't work too hard, said Shaggy.\n",
      "Transcription24:  He doesn't work at all.\n",
      "Transcription25:  In fact, there is nothing he can do in these dominions as well as our gnomes, whose numbers are so great that it worries us to keep them all busy.\n",
      "Transcription26:  \"'Not exactly,' returned Calico.'\n",
      "Transcription27:  Where is my brother now?\n",
      "Transcription28:  Inquired Shaggy. In the metal forest.\n",
      "Transcription29:  Where is that?\n"
     ]
    }
   ],
   "source": [
    "# Print the length of the dataset and the keys of the 10th sample\n",
    "print(\"dataset\", len(dataset), dataset[10].keys())\n",
    "\n",
    "# Create an empty list to store the transcriptions\n",
    "transcriptions_list = []\n",
    "\n",
    "# Iterate over the first 30 samples in the dataset\n",
    "for idx in range(30):\n",
    "    # Get the audio array and sampling rate from the dataset\n",
    "    audio_array = dataset[idx]['audio']['array']\n",
    "    sampling_rate = dataset[idx]['audio']['sampling_rate']\n",
    "    \n",
    "    # Transcribe the audio and append the transcription to the list\n",
    "    transcription = transcribe(audio_array, sampling_rate)\n",
    "    transcriptions_list.append(transcription)\n",
    "    \n",
    "    # Print the transcription\n",
    "    print(f\"Transcription{idx}: {transcription}\")"
   ]
  },
  {
   "cell_type": "markdown",
   "metadata": {},
   "source": [
    "### COMPUTE METRICS\n",
    "In this section we compute all the metrics for the model outputs given the ground truth of the dataset\n",
    "\n",
    "The metrics used:\n",
    "\n",
    "- PRECISSION ROUGE SCORE \n",
    "\n",
    "- RECALL ROUGE SCORE \n",
    "\n",
    "- f1 ROUGE SCORE "
   ]
  },
  {
   "cell_type": "code",
   "execution_count": 11,
   "metadata": {},
   "outputs": [
    {
     "name": "stdout",
     "output_type": "stream",
     "text": [
      "Predicted Translation:   Mr. Quilter is the apostle of the middle classes, and we are glad to welcome his gospel.\n",
      "Ground Truth:  mister quilter is the apostle of the middle classes and we are glad to welcome his gospel\n",
      "ROUGE-S Precision: 0.5714285714285714\n",
      "ROUGE-S Recall: 0.6451612903225806\n",
      "ROUGE-S F1-Score: 0.606060606060606 \n",
      "\n",
      "Predicted Translation:   Nor is Mr. Quilter's manner less interesting than his matter.\n",
      "Ground Truth:  nor is mister quilter's manner less interesting than his matter\n",
      "ROUGE-S Precision: 0.6190476190476191\n",
      "ROUGE-S Recall: 0.6842105263157895\n",
      "ROUGE-S F1-Score: 0.6500000000000001 \n",
      "\n",
      "Predicted Translation:   he tells us that at this festive season of the year with christmas and roast beef looming before us similes drawn from eating and its results occur most readily to the mind\n",
      "Ground Truth:  he tells us that at this festive season of the year with christmas and roast beef looming before us similes drawn from eating and its results occur most readily to the mind\n",
      "ROUGE-S Precision: 1.0\n",
      "ROUGE-S Recall: 1.0\n",
      "ROUGE-S F1-Score: 1.0 \n",
      "\n",
      "Predicted Translation:   He has grave doubts whether Sir Frederick Leighton's work is really Greek after all, and can discover in it but little of rocky Ithaca.\n",
      "Ground Truth:  he has grave doubts whether sir frederick leighton's work is really greek after all and can discover in it but little of rocky ithaca\n",
      "ROUGE-S Precision: 0.5490196078431373\n",
      "ROUGE-S Recall: 0.5957446808510638\n",
      "ROUGE-S F1-Score: 0.5714285714285715 \n",
      "\n",
      "Predicted Translation:   linnell's pictures are a sort of up guards and adam paintings and mason's exquisite idylls are as national as a jingo poem mr burkett foster's landscapes smile at one much in the same way that mr carker used to flash his teeth and mr john collier gives his sitter a cheerful slap on the back before he says like a shampooer in a turkish bath next man\n",
      "Ground Truth:  linnell's pictures are a sort of up guards and at em paintings and mason's exquisite idylls are as national as a jingo poem mister birket foster's landscapes smile at one much in the same way that mister carker used to flash his teeth and mister john collier gives his sitter a cheerful slap on the back before he says like a shampooer in a turkish bath next man\n",
      "ROUGE-S Precision: 0.5401459854014599\n",
      "ROUGE-S Recall: 0.5323741007194245\n",
      "ROUGE-S F1-Score: 0.5362318840579711 \n",
      "\n",
      "Predicted Translation:   It is obviously unnecessary for us to point out how luminous these criticisms are, how delicate in expression.\n",
      "Ground Truth:  it is obviously unnecessary for us to point out how luminous these criticisms are how delicate in expression\n",
      "ROUGE-S Precision: 0.7567567567567568\n",
      "ROUGE-S Recall: 0.8484848484848485\n",
      "ROUGE-S F1-Score: 0.8000000000000002 \n",
      "\n",
      "Predicted Translation:   On the general principles of art, Mr. Quilter writes with equal lucidity.\n",
      "Ground Truth:  on the general principles of art mister quilter writes with equal lucidity\n",
      "ROUGE-S Precision: 0.48\n",
      "ROUGE-S Recall: 0.5714285714285714\n",
      "ROUGE-S F1-Score: 0.5217391304347826 \n",
      "\n",
      "Predicted Translation:   Painting, he tells us, is of a different quality to mathematics, and finish in art is adding more fact.\n",
      "Ground Truth:  painting he tells us is of a different quality to mathematics and finish in art is adding more fact\n",
      "ROUGE-S Precision: 0.06976744186046512\n",
      "ROUGE-S Recall: 0.08571428571428572\n",
      "ROUGE-S F1-Score: 0.07692307692307693 \n",
      "\n",
      "Predicted Translation:   As for etchings, they are of two kinds, British and foreign.\n",
      "Ground Truth:  as for etchings they are of two kinds british and foreign\n",
      "ROUGE-S Precision: 0.36\n",
      "ROUGE-S Recall: 0.47368421052631576\n",
      "ROUGE-S F1-Score: 0.40909090909090906 \n",
      "\n",
      "Predicted Translation:   he laments most bitterly the divorce that has been made between decorative art and what we usually call pictures makes a customary appeal to the last judgment and reminds us that in the great days of art michael angelo was the furnishing upholsterer\n",
      "Ground Truth:  he laments most bitterly the divorce that has been made between decorative art and what we usually call pictures makes the customary appeal to the last judgment and reminds us that in the great days of art michael angelo was the furnishing upholsterer\n",
      "ROUGE-S Precision: 0.9759036144578314\n",
      "ROUGE-S Recall: 0.9759036144578314\n",
      "ROUGE-S F1-Score: 0.9759036144578314 \n",
      "\n",
      "Predicted Translation:   near the fire, and the ornaments Fred brought home from India on the mental board.\n",
      "Ground Truth:  near the fire and the ornaments fred brought home from india on the mantel board\n",
      "ROUGE-S Precision: 0.45161290322580644\n",
      "ROUGE-S Recall: 0.5185185185185185\n",
      "ROUGE-S F1-Score: 0.48275862068965514 \n",
      "\n",
      "Predicted Translation:   in fact he is quite severe on mr ruskin for not recognizing that a picture should denote the frailty of man and remarks with pleasing courtesy and felicitous grace that many phases of feeling\n",
      "Ground Truth:  in fact he is quite severe on mister ruskin for not recognising that a picture should denote the frailty of man and remarks with pleasing courtesy and felicitous grace that many phases of feeling\n",
      "ROUGE-S Precision: 0.9384615384615385\n",
      "ROUGE-S Recall: 0.9384615384615385\n",
      "ROUGE-S F1-Score: 0.9384615384615385 \n",
      "\n",
      "Predicted Translation:   Only, unfortunately, his own work never does get good.\n",
      "Ground Truth:  only unfortunately his own work never does get good\n",
      "ROUGE-S Precision: 0.047619047619047616\n",
      "ROUGE-S Recall: 0.06666666666666667\n",
      "ROUGE-S F1-Score: 0.05555555555555555 \n",
      "\n",
      "Predicted Translation:   Mr. Quilter has missed his chance, for he has failed even to make himself the tupper of painting.\n",
      "Ground Truth:  mister quilter has missed his chance for he has failed even to make himself the tupper of painting\n",
      "ROUGE-S Precision: 0.4864864864864865\n",
      "ROUGE-S Recall: 0.5454545454545454\n",
      "ROUGE-S F1-Score: 0.5142857142857143 \n",
      "\n",
      "Predicted Translation:   by Harry Quilter, M.A.\n",
      "Ground Truth:  by harry quilter m a\n",
      "ROUGE-S Precision: 0.2222222222222222\n",
      "ROUGE-S Recall: 0.2857142857142857\n",
      "ROUGE-S F1-Score: 0.25 \n",
      "\n",
      "Predicted Translation:   because you are sleeping instead of conquering the lovely rose princess has become a fiddle without a bow while poor shaggy sits there a cooing dove\n",
      "Ground Truth:  because you were sleeping instead of conquering the lovely rose princess has become a fiddle without a bow while poor shaggy sits there a cooing dove\n",
      "ROUGE-S Precision: 0.9591836734693877\n",
      "ROUGE-S Recall: 0.9591836734693877\n",
      "ROUGE-S F1-Score: 0.9591836734693877 \n",
      "\n",
      "Predicted Translation:   he has gone and gone for good answered polychrome who had managed to squeeze into the room beside the dragon and had witnessed the occurrences with much interest\n",
      "Ground Truth:  he has gone and gone for good answered polychrome who had managed to squeeze into the room beside the dragon and had witnessed the occurrences with much interest\n",
      "ROUGE-S Precision: 1.0\n",
      "ROUGE-S Recall: 1.0\n",
      "ROUGE-S F1-Score: 1.0 \n",
      "\n",
      "Predicted Translation:   i have remained a prisoner only because i wished to be one and with this he stepped forward and burst the stout chains as easily as if they had been threads\n",
      "Ground Truth:  i have remained a prisoner only because i wished to be one and with this he stepped forward and burst the stout chains as easily as if they had been threads\n",
      "ROUGE-S Precision: 1.0\n",
      "ROUGE-S Recall: 1.0\n",
      "ROUGE-S F1-Score: 1.0 \n",
      "\n",
      "Predicted Translation:   The little girl had been asleep, but she heard the raps and opened the door.\n",
      "Ground Truth:  the little girl had been asleep but she heard the raps and opened the door\n",
      "ROUGE-S Precision: 0.5483870967741935\n",
      "ROUGE-S Recall: 0.6296296296296297\n",
      "ROUGE-S F1-Score: 0.5862068965517241 \n",
      "\n",
      "Predicted Translation:   The king is fled in disgrace and your friends are asking for you.\n",
      "Ground Truth:  the king has fled in disgrace and your friends are asking for you\n",
      "ROUGE-S Precision: 0.76\n",
      "ROUGE-S Recall: 0.8260869565217391\n",
      "ROUGE-S F1-Score: 0.7916666666666667 \n",
      "\n",
      "Predicted Translation:   I begged Ruggedo long ago to send him away, but he would not do so.\n",
      "Ground Truth:  i begged ruggedo long ago to send him away but he would not do so\n",
      "ROUGE-S Precision: 0.5806451612903226\n",
      "ROUGE-S Recall: 0.6666666666666666\n",
      "ROUGE-S F1-Score: 0.6206896551724138 \n",
      "\n",
      "Predicted Translation:   I also offered to help your brother to escape, but he would not go.\n",
      "Ground Truth:  i also offered to help your brother to escape but he would not go\n",
      "ROUGE-S Precision: 0.6551724137931034\n",
      "ROUGE-S Recall: 0.76\n",
      "ROUGE-S F1-Score: 0.7037037037037037 \n",
      "\n",
      "Predicted Translation:   \"'He eats and sleeps very steadily,' replied the new king.\"\n",
      "Ground Truth:  he eats and sleeps very steadily replied the new king\n",
      "ROUGE-S Precision: 0.18518518518518517\n",
      "ROUGE-S Recall: 0.29411764705882354\n",
      "ROUGE-S F1-Score: 0.22727272727272727 \n",
      "\n",
      "Predicted Translation:   I hope it doesn't work too hard, said Shaggy.\n",
      "Ground Truth:  i hope he doesn't work too hard said shaggy\n",
      "ROUGE-S Precision: 0.5714285714285714\n",
      "ROUGE-S Recall: 0.7058823529411765\n",
      "ROUGE-S F1-Score: 0.6315789473684211 \n",
      "\n",
      "Predicted Translation:   He doesn't work at all.\n",
      "Ground Truth:  he doesn't work at all\n",
      "ROUGE-S Precision: 0.6363636363636364\n",
      "ROUGE-S Recall: 0.7777777777777778\n",
      "ROUGE-S F1-Score: 0.7000000000000001 \n",
      "\n",
      "Predicted Translation:   In fact, there is nothing he can do in these dominions as well as our gnomes, whose numbers are so great that it worries us to keep them all busy.\n",
      "Ground Truth:  in fact there is nothing he can do in these dominions as well as our nomes whose numbers are so great that it worries us to keep them all busy\n",
      "ROUGE-S Precision: 0.25396825396825395\n",
      "ROUGE-S Recall: 0.2807017543859649\n",
      "ROUGE-S F1-Score: 0.26666666666666666 \n",
      "\n",
      "Predicted Translation:   \"'Not exactly,' returned Calico.'\n",
      "Ground Truth:  not exactly returned kaliko\n",
      "ROUGE-S Precision: 0.06666666666666667\n",
      "ROUGE-S Recall: 0.2\n",
      "ROUGE-S F1-Score: 0.1 \n",
      "\n",
      "Predicted Translation:   Where is my brother now?\n",
      "Ground Truth:  where is my brother now\n",
      "ROUGE-S Precision: 0.5555555555555556\n",
      "ROUGE-S Recall: 0.7142857142857143\n",
      "ROUGE-S F1-Score: 0.6250000000000001 \n",
      "\n",
      "Predicted Translation:   Inquired Shaggy. In the metal forest.\n",
      "Ground Truth:  inquired shaggy in the metal forest\n",
      "ROUGE-S Precision: 0.07692307692307693\n",
      "ROUGE-S Recall: 0.1111111111111111\n",
      "ROUGE-S F1-Score: 0.09090909090909093 \n",
      "\n",
      "Predicted Translation:   Where is that?\n",
      "Ground Truth:  where is that\n",
      "ROUGE-S Precision: 0.2\n",
      "ROUGE-S Recall: 0.3333333333333333\n",
      "ROUGE-S F1-Score: 0.25 \n",
      "\n"
     ]
    }
   ],
   "source": [
    "import nltk\n",
    "from itertools import combinations\n",
    "\n",
    "# Define a function to generate skip-bigrams\n",
    "def skip_bigrams(tokens, k=2):\n",
    "    # Generate skip-bigrams with a distance of up to k words between them\n",
    "    skip_bigrams = set()\n",
    "    #iterate over the tokens\n",
    "    for i, first_word in tokens:\n",
    "        #iterate over the tokens\n",
    "        for j in range(i+1, i+k+1):\n",
    "            #check if the token is in the tokens\n",
    "            if j < len(tokens):\n",
    "                #get the second word\n",
    "                second_word = tokens[j][0]\n",
    "                #add the skip-bigram to the set\n",
    "                skip_bigrams.add((first_word, second_word))\n",
    "    #return the skip-bigrams\n",
    "    return skip_bigrams\n",
    "\n",
    "\n",
    "#Crate lists to save the precision, recall and f1 scores for each transcription\n",
    "precision_lists = []\n",
    "recall_lists = []\n",
    "f1_scores_lists = []\n",
    "\n",
    "for trans, gt in zip(transcriptions_list, gt_list):\n",
    "    # Tokenize the sentences and enumerate tokens\n",
    "    prediction_tokens = list(enumerate(nltk.word_tokenize(trans)))\n",
    "    reference_tokens = list(enumerate(nltk.word_tokenize(gt)))\n",
    "\n",
    "    # Get skip-bigrams for the prediction and reference sentences\n",
    "    prediction_skip_bigrams = skip_bigrams(prediction_tokens)\n",
    "    reference_skip_bigrams = skip_bigrams(reference_tokens)\n",
    "\n",
    "    # Calculate the matches between the prediction and reference skip-bigrams\n",
    "    matches = len(prediction_skip_bigrams.intersection(reference_skip_bigrams))\n",
    "\n",
    "    # Calculate precision, recall, and F1 score\n",
    "    precision_s = matches / len(prediction_skip_bigrams) if prediction_skip_bigrams else 0\n",
    "    recall_s = matches / len(reference_skip_bigrams) if reference_skip_bigrams else 0\n",
    "    f1_score_s = 2 * (precision_s * recall_s) / (precision_s + recall_s) if (precision_s + recall_s) > 0 else 0\n",
    "\n",
    "    # Print skip-bigram scores\n",
    "    print(\"Predicted Translation: \", trans)\n",
    "    print(\"Ground Truth: \", gt)\n",
    "    print(\"ROUGE-S Precision:\", precision_s)\n",
    "    precision_lists.append(precision_s)\n",
    "    print(\"ROUGE-S Recall:\", recall_s)\n",
    "    recall_lists.append(recall_s)\n",
    "    print(\"ROUGE-S F1-Score:\", f1_score_s, \"\\n\")\n",
    "    f1_scores_lists.append(f1_score_s)"
   ]
  },
  {
   "cell_type": "code",
   "execution_count": 12,
   "metadata": {},
   "outputs": [
    {
     "name": "stdout",
     "output_type": "stream",
     "text": [
      "Transcription  Mr. Quilter is the apostle of the middle classes, and we are glad to welcome his gospel.\n",
      "Ground Truth mister quilter is the apostle of the middle classes and we are glad to welcome his gospel\n",
      "Word Error Rate (WER): 0.24 \n",
      "\n",
      "Transcription  Nor is Mr. Quilter's manner less interesting than his matter.\n",
      "Ground Truth nor is mister quilter's manner less interesting than his matter\n",
      "Word Error Rate (WER): 0.40 \n",
      "\n",
      "Transcription  he tells us that at this festive season of the year with christmas and roast beef looming before us similes drawn from eating and its results occur most readily to the mind\n",
      "Ground Truth he tells us that at this festive season of the year with christmas and roast beef looming before us similes drawn from eating and its results occur most readily to the mind\n",
      "Word Error Rate (WER): 0.00 \n",
      "\n",
      "Transcription  He has grave doubts whether Sir Frederick Leighton's work is really Greek after all, and can discover in it but little of rocky Ithaca.\n",
      "Ground Truth he has grave doubts whether sir frederick leighton's work is really greek after all and can discover in it but little of rocky ithaca\n",
      "Word Error Rate (WER): 0.29 \n",
      "\n",
      "Transcription  linnell's pictures are a sort of up guards and adam paintings and mason's exquisite idylls are as national as a jingo poem mr burkett foster's landscapes smile at one much in the same way that mr carker used to flash his teeth and mr john collier gives his sitter a cheerful slap on the back before he says like a shampooer in a turkish bath next man\n",
      "Ground Truth linnell's pictures are a sort of up guards and at em paintings and mason's exquisite idylls are as national as a jingo poem mister birket foster's landscapes smile at one much in the same way that mister carker used to flash his teeth and mister john collier gives his sitter a cheerful slap on the back before he says like a shampooer in a turkish bath next man\n",
      "Word Error Rate (WER): 0.09 \n",
      "\n",
      "Transcription  It is obviously unnecessary for us to point out how luminous these criticisms are, how delicate in expression.\n",
      "Ground Truth it is obviously unnecessary for us to point out how luminous these criticisms are how delicate in expression\n",
      "Word Error Rate (WER): 0.17 \n",
      "\n",
      "Transcription  On the general principles of art, Mr. Quilter writes with equal lucidity.\n",
      "Ground Truth on the general principles of art mister quilter writes with equal lucidity\n",
      "Word Error Rate (WER): 0.42 \n",
      "\n",
      "Transcription  Painting, he tells us, is of a different quality to mathematics, and finish in art is adding more fact.\n",
      "Ground Truth painting he tells us is of a different quality to mathematics and finish in art is adding more fact\n",
      "Word Error Rate (WER): 0.21 \n",
      "\n",
      "Transcription  As for etchings, they are of two kinds, British and foreign.\n",
      "Ground Truth as for etchings they are of two kinds british and foreign\n",
      "Word Error Rate (WER): 0.45 \n",
      "\n",
      "Transcription  he laments most bitterly the divorce that has been made between decorative art and what we usually call pictures makes a customary appeal to the last judgment and reminds us that in the great days of art michael angelo was the furnishing upholsterer\n",
      "Ground Truth he laments most bitterly the divorce that has been made between decorative art and what we usually call pictures makes the customary appeal to the last judgment and reminds us that in the great days of art michael angelo was the furnishing upholsterer\n",
      "Word Error Rate (WER): 0.02 \n",
      "\n",
      "Transcription  near the fire, and the ornaments Fred brought home from India on the mental board.\n",
      "Ground Truth near the fire and the ornaments fred brought home from india on the mantel board\n",
      "Word Error Rate (WER): 0.33 \n",
      "\n",
      "Transcription  in fact he is quite severe on mr ruskin for not recognizing that a picture should denote the frailty of man and remarks with pleasing courtesy and felicitous grace that many phases of feeling\n",
      "Ground Truth in fact he is quite severe on mister ruskin for not recognising that a picture should denote the frailty of man and remarks with pleasing courtesy and felicitous grace that many phases of feeling\n",
      "Word Error Rate (WER): 0.06 \n",
      "\n",
      "Transcription  Only, unfortunately, his own work never does get good.\n",
      "Ground Truth only unfortunately his own work never does get good\n",
      "Word Error Rate (WER): 0.33 \n",
      "\n",
      "Transcription  Mr. Quilter has missed his chance, for he has failed even to make himself the tupper of painting.\n",
      "Ground Truth mister quilter has missed his chance for he has failed even to make himself the tupper of painting\n",
      "Word Error Rate (WER): 0.22 \n",
      "\n",
      "Transcription  by Harry Quilter, M.A.\n",
      "Ground Truth by harry quilter m a\n",
      "Word Error Rate (WER): 1.00 \n",
      "\n",
      "Transcription  because you are sleeping instead of conquering the lovely rose princess has become a fiddle without a bow while poor shaggy sits there a cooing dove\n",
      "Ground Truth because you were sleeping instead of conquering the lovely rose princess has become a fiddle without a bow while poor shaggy sits there a cooing dove\n",
      "Word Error Rate (WER): 0.04 \n",
      "\n",
      "Transcription  he has gone and gone for good answered polychrome who had managed to squeeze into the room beside the dragon and had witnessed the occurrences with much interest\n",
      "Ground Truth he has gone and gone for good answered polychrome who had managed to squeeze into the room beside the dragon and had witnessed the occurrences with much interest\n",
      "Word Error Rate (WER): 0.00 \n",
      "\n",
      "Transcription  i have remained a prisoner only because i wished to be one and with this he stepped forward and burst the stout chains as easily as if they had been threads\n",
      "Ground Truth i have remained a prisoner only because i wished to be one and with this he stepped forward and burst the stout chains as easily as if they had been threads\n",
      "Word Error Rate (WER): 0.00 \n",
      "\n",
      "Transcription  The little girl had been asleep, but she heard the raps and opened the door.\n",
      "Ground Truth the little girl had been asleep but she heard the raps and opened the door\n",
      "Word Error Rate (WER): 0.20 \n",
      "\n",
      "Transcription  The king is fled in disgrace and your friends are asking for you.\n",
      "Ground Truth the king has fled in disgrace and your friends are asking for you\n",
      "Word Error Rate (WER): 0.23 \n",
      "\n",
      "Transcription  I begged Ruggedo long ago to send him away, but he would not do so.\n",
      "Ground Truth i begged ruggedo long ago to send him away but he would not do so\n",
      "Word Error Rate (WER): 0.27 \n",
      "\n",
      "Transcription  I also offered to help your brother to escape, but he would not go.\n",
      "Ground Truth i also offered to help your brother to escape but he would not go\n",
      "Word Error Rate (WER): 0.21 \n",
      "\n",
      "Transcription  \"'He eats and sleeps very steadily,' replied the new king.\"\n",
      "Ground Truth he eats and sleeps very steadily replied the new king\n",
      "Word Error Rate (WER): 0.30 \n",
      "\n",
      "Transcription  I hope it doesn't work too hard, said Shaggy.\n",
      "Ground Truth i hope he doesn't work too hard said shaggy\n",
      "Word Error Rate (WER): 0.44 \n",
      "\n",
      "Transcription  He doesn't work at all.\n",
      "Ground Truth he doesn't work at all\n",
      "Word Error Rate (WER): 0.40 \n",
      "\n",
      "Transcription  In fact, there is nothing he can do in these dominions as well as our gnomes, whose numbers are so great that it worries us to keep them all busy.\n",
      "Ground Truth in fact there is nothing he can do in these dominions as well as our nomes whose numbers are so great that it worries us to keep them all busy\n",
      "Word Error Rate (WER): 0.13 \n",
      "\n",
      "Transcription  \"'Not exactly,' returned Calico.'\n",
      "Ground Truth not exactly returned kaliko\n",
      "Word Error Rate (WER): 0.75 \n",
      "\n",
      "Transcription  Where is my brother now?\n",
      "Ground Truth where is my brother now\n",
      "Word Error Rate (WER): 0.40 \n",
      "\n",
      "Transcription  Inquired Shaggy. In the metal forest.\n",
      "Ground Truth inquired shaggy in the metal forest\n",
      "Word Error Rate (WER): 0.67 \n",
      "\n",
      "Transcription  Where is that?\n",
      "Ground Truth where is that\n",
      "Word Error Rate (WER): 0.67 \n",
      "\n"
     ]
    }
   ],
   "source": [
    "# Import the jiwer package for computing Word Error Rate (WER)\n",
    "import jiwer\n",
    "\n",
    "# Compute WER\n",
    "for trans, gt in zip(transcriptions_list, gt_list):\n",
    "    # Calculate the Word Error Rate (WER) between the transcription and ground truth\n",
    "    wer = jiwer.wer(trans, gt)\n",
    "    \n",
    "    # Print the transcription and ground truth\n",
    "    print(\"Transcription\", trans)\n",
    "    print(\"Ground Truth\", gt)   \n",
    "    \n",
    "    # Print the Word Error Rate (WER)\n",
    "    print(f\"Word Error Rate (WER): {wer:.2f} \\n\")"
   ]
  },
  {
   "cell_type": "code",
   "execution_count": 13,
   "metadata": {},
   "outputs": [
    {
     "name": "stdout",
     "output_type": "stream",
     "text": [
      "AVERAGE ROUGE-S Precision: 0.5372650362076299\n",
      "AVERAGE ROUGE-S Recall: 0.600876610027253\n",
      "AVERAGE ROUGE-S F1-Score: 0.5647105749742338 \n",
      "\n"
     ]
    }
   ],
   "source": [
    "\n",
    "import numpy as np\n",
    "#Print all the average scores for every metric \n",
    "print(\"AVERAGE ROUGE-S Precision:\", np.mean(precision_lists))\n",
    "print(\"AVERAGE ROUGE-S Recall:\", np.mean(recall_lists))\n",
    "print(\"AVERAGE ROUGE-S F1-Score:\", np.mean(f1_scores_lists), \"\\n\")"
   ]
  },
  {
   "cell_type": "code",
   "execution_count": 16,
   "metadata": {},
   "outputs": [
    {
     "data": {
      "image/png": "[encoded data removed]",
      "text/plain": [
       "<Figure size 800x600 with 1 Axes>"
      ]
     },
     "metadata": {},
     "output_type": "display_data"
    }
   ],
   "source": [
    "#Plot the results in a more visual way\n",
    "import matplotlib.pyplot as plt\n",
    "\n",
    "# Get the average scores for each metric\n",
    "rouge1_score = np.mean(precision_lists)\n",
    "rouge2_score = np.mean(recall_lists)\n",
    "rougeL_score = np.mean(f1_scores_lists)\n",
    "\n",
    "# Plot the average scores\n",
    "plt.figure(figsize=(8, 6))\n",
    "plt.bar(['ROUGE-1', 'ROUGE-2', 'ROUGE-L'], [rouge1_score, rouge2_score, rougeL_score], color='skyblue')\n",
    "plt.ylabel('Average F1 Score')\n",
    "plt.title('Average ROUGE Scores on the Validation Dataset')\n",
    "plt.show()"
   ]
  },
  {
   "cell_type": "markdown",
   "metadata": {},
   "source": [
    "## Translation "
   ]
  },
  {
   "cell_type": "markdown",
   "metadata": {},
   "source": [
    "### Exercise 3: Translate the generated text from English to another language"
   ]
  },
  {
   "cell_type": "markdown",
   "metadata": {},
   "source": [
    "In the next section we will translate the output of the whisper model from english to spanish using an LLM "
   ]
  },
  {
   "cell_type": "code",
   "execution_count": 48,
   "metadata": {},
   "outputs": [
    {
     "name": "stderr",
     "output_type": "stream",
     "text": [
      "/export/hhome/nlp2_g09/Project/.conda/lib/python3.11/site-packages/huggingface_hub/file_download.py:1132: FutureWarning: `resume_download` is deprecated and will be removed in version 1.0.0. Downloads always resume when possible. If you want to force a new download, use `force_download=True`.\n",
      "  warnings.warn(\n",
      "`flash-attention` package not found, consider installing for better performance: No module named 'flash_attn'.\n",
      "Current `flash-attention` does not support `window_size`. Either upgrade or use `attn_implementation='eager'`.\n"
     ]
    },
    {
     "data": {
      "application/vnd.jupyter.widget-view+json": {
       "model_id": "e82fc31dbaba48e687a621698f663292",
       "version_major": 2,
       "version_minor": 0
      },
      "text/plain": [
       "Loading checkpoint shards:   0%|          | 0/2 [00:00<?, ?it/s]"
      ]
     },
     "metadata": {},
     "output_type": "display_data"
    },
    {
     "name": "stderr",
     "output_type": "stream",
     "text": [
      "Special tokens have been added in the vocabulary, make sure the associated word embeddings are fine-tuned or trained.\n"
     ]
    }
   ],
   "source": [
    "from transformers import AutoModelForCausalLM, AutoTokenizer\n",
    "\n",
    "\n",
    "#Import the model and tokenizer for the Phi-3-mini-4k-instruct model\n",
    "model = AutoModelForCausalLM.from_pretrained(\"microsoft/Phi-3-mini-4k-instruct\")\n",
    "\n",
    "tokenizer = AutoTokenizer.from_pretrained(\"microsoft/Phi-3-mini-4k-instruct\")"
   ]
  },
  {
   "cell_type": "code",
   "execution_count": 56,
   "metadata": {},
   "outputs": [
    {
     "name": "stdout",
     "output_type": "stream",
     "text": [
      "Input Text:  Translate to Spanish:  Mr. Quilter is the apostle of the middle classes, and we are glad to welcome his gospel., Translation:  \n",
      "\n",
      "Translated text:  Translate to Spanish:  Mr. Quilter is the apostle of the middle classes, and we are glad to welcome his gospel., Translation:  Sr. Quilter es el apóstol de las clases medias, y estamos encantados de recibir su evangelio.\n",
      "\n",
      "Input Text:  Translate to Spanish:  Nor is Mr. Quilter's manner less interesting than his matter., Translation:  \n",
      "\n",
      "Translated text:  Translate to Spanish:  Nor is Mr. Quilter's manner less interesting than his matter., Translation:  Ni el modo de Mr. Quilter no es menos interesante que su asunto.\n",
      "\n",
      "Input Text:  Translate to Spanish:  he tells us that at this festive season of the year with christmas and roast beef looming before us similes drawn from eating and its results occur most readily to the mind, Translation:  \n",
      "\n",
      "Translated text:  Translate to Spanish:  he tells us that at this festive season of the year with christmas and roast beef looming before us similes drawn from eating and its results occur most readily to the mind, Translation:  Él nos cuenta que en esta temporada festiva del año, con Navidad y asado de cerdo ante nosotros, las comparaciones relacionadas con la comida y sus resultados ocurren más fácilmente en la mente.\n",
      "\n",
      "Input Text:  Translate to Spanish:  He has grave doubts whether Sir Frederick Leighton's work is really Greek after all, and can discover in it but little of rocky Ithaca., Translation:  \n",
      "\n",
      "Translated text:  Translate to Spanish:  He has grave doubts whether Sir Frederick Leighton's work is really Greek after all, and can discover in it but little of rocky Ithaca., Translation:  Tiene serias dudas sobre si el trabajo de Sir Frederick Leighton realmente es griego, y puede encontrar en él poco de la Ithaca rocosa.\n",
      "\n",
      "Input Text:  Translate to Spanish:  linnell's pictures are a sort of up guards and adam paintings and mason's exquisite idylls are as national as a jingo poem mr burkett foster's landscapes smile at one much in the same way that mr carker used to flash his teeth and mr john collier gives his sitter a cheerful slap on the back before he says like a shampooer in a turkish bath next man, Translation:  \n",
      "\n",
      "Translated text:  Translate to Spanish:  linnell's pictures are a sort of up guards and adam paintings and mason's exquisite idylls are as national as a jingo poem mr burkett foster's landscapes smile at one much in the same way that mr carker used to flash his teeth and mr john collier gives his sitter a cheerful slap on the back before he says like a shampooer in a turkish bath next man, Translation:  Las obras de Linnell son un tipo de retratos de guardaespaldas y pinturas de Adán y los idílios exquis\n",
      "Input Text:  Translate to Spanish:  It is obviously unnecessary for us to point out how luminous these criticisms are, how delicate in expression., Translation:  \n",
      "\n",
      "Translated text:  Translate to Spanish:  It is obviously unnecessary for us to point out how luminous these criticisms are, how delicate in expression., Translation:  Obviamente es innecesario para nosotros señalar cuán luminosas son estas críticas, cuán delicadas en su expresión.\n",
      "\n",
      "Input Text:  Translate to Spanish:  On the general principles of art, Mr. Quilter writes with equal lucidity., Translation:  \n",
      "\n",
      "Translated text:  Translate to Spanish:  On the general principles of art, Mr. Quilter writes with equal lucidity., Translation:  Respecto a los principios generales del arte, el Sr. Quilter escribe con igual claridad.\n",
      "\n",
      "Input Text:  Translate to Spanish:  Painting, he tells us, is of a different quality to mathematics, and finish in art is adding more fact., Translation:  \n",
      "\n",
      "Translated text:  Translate to Spanish:  Painting, he tells us, is of a different quality to mathematics, and finish in art is adding more fact., Translation:  La pintura, nos dice, es de una calidad diferente a las matemáticas, y terminar en el arte significa agregar más hechos.\n",
      "\n",
      "Input Text:  Translate to Spanish:  As for etchings, they are of two kinds, British and foreign., Translation:  \n",
      "\n",
      "Translated text:  Translate to Spanish:  As for etchings, they are of two kinds, British and foreign., Translation:  Respecto a los grabados, existen dos tipos, británicos y extranjeros.\n",
      "\n",
      "Input Text:  Translate to Spanish:  he laments most bitterly the divorce that has been made between decorative art and what we usually call pictures makes a customary appeal to the last judgment and reminds us that in the great days of art michael angelo was the furnishing upholsterer, Translation:  \n",
      "\n",
      "Translated text:  Translate to Spanish:  he laments most bitterly the divorce that has been made between decorative art and what we usually call pictures makes a customary appeal to the last judgment and reminds us that in the great days of art michael angelo was the furnishing upholsterer, Translation:  él lamenta con mayor amargura el divorcio que se ha producido entre el arte decorativo y lo que solemos llamar cuadros hace una apelación habitual a la última hora y nos recuerda que en los grandes días del arte, Miguel Ángel fue el almohadillador.\n",
      "\n",
      "Input Text:  Translate to Spanish:  near the fire, and the ornaments Fred brought home from India on the mental board., Translation:  \n",
      "\n",
      "Translated text:  Translate to Spanish:  near the fire, and the ornaments Fred brought home from India on the mental board., Translation:  cerca del fuego y los adornos que Fred trajo de la India al tablero mental.\n",
      "\n",
      "Input Text:  Translate to Spanish:  in fact he is quite severe on mr ruskin for not recognizing that a picture should denote the frailty of man and remarks with pleasing courtesy and felicitous grace that many phases of feeling, Translation:  \n",
      "\n",
      "Translated text:  Translate to Spanish:  in fact he is quite severe on mr ruskin for not recognizing that a picture should denote the frailty of man and remarks with pleasing courtesy and felicitous grace that many phases of feeling, Translation:  en realidad es bastante severo con Mr. Ruskin por no reconocer que una imagen debe denotar la fragilidad del hombre y comenta con cortesía agradable y gracia feliz que hay muchas fases del sentimiento\n",
      "\n",
      "Input Text:  Translate to Spanish:  Only, unfortunately, his own work never does get good., Translation:  \n",
      "\n",
      "Translated text:  Translate to Spanish:  Only, unfortunately, his own work never does get good., Translation:  Únicamente, desafortunadamente, su propio trabajo nunca lo hace bien.\n",
      "\n",
      "\n",
      "Input Text:  Translate to Spanish:  Mr. Quilter has missed his chance, for he has failed even to make himself the tupper of painting., Translation:  \n",
      "\n",
      "Translated text:  Translate to Spanish:  Mr. Quilter has missed his chance, for he has failed even to make himself the tupper of painting., Translation:  Sr. Quilter ha perdido su oportunidad, ya que no ha hecho nada para convertirse en el tutor de la pintura.\n",
      "\n",
      "Input Text:  Translate to Spanish:  by Harry Quilter, M.A., Translation:  \n",
      "\n",
      "Translated text:  Translate to Spanish:  by Harry Quilter, M.A., Translation:  por Harry Quilter, M.A.\n",
      "\n",
      "Input Text:  Translate to Spanish:  because you are sleeping instead of conquering the lovely rose princess has become a fiddle without a bow while poor shaggy sits there a cooing dove, Translation:  \n",
      "\n",
      "Translated text:  Translate to Spanish:  because you are sleeping instead of conquering the lovely rose princess has become a fiddle without a bow while poor shaggy sits there a cooing dove, Translation:  porque duermes en lugar de conquistar a la encantadora princesa de la rosa, la has convertido en un violín sin arco, mientras que el pobre zorro pelado se sienta allí como una paloma cooing\n",
      "\n",
      "Input Text:  Translate to Spanish:  he has gone and gone for good answered polychrome who had managed to squeeze into the room beside the dragon and had witnessed the occurrences with much interest, Translation:  \n",
      "\n",
      "Translated text:  Translate to Spanish:  he has gone and gone for good answered polychrome who had managed to squeeze into the room beside the dragon and had witnessed the occurrences with much interest, Translation:  él se fue y se fue para siempre respondió Polícroma, quien logró meterse en la habitación al lado del dragón y presenció los sucesos con mucho interés.\n",
      "\n",
      "Input Text:  Translate to Spanish:  i have remained a prisoner only because i wished to be one and with this he stepped forward and burst the stout chains as easily as if they had been threads, Translation:  \n",
      "\n",
      "Translated text:  Translate to Spanish:  i have remained a prisoner only because i wished to be one and with this he stepped forward and burst the stout chains as easily as if they had been threads, Translation:  solo he permanecido prisionero porque lo deseaba y con esto avanzó y rompió las gruesas cadenas como si fueran hilos\n",
      "\n",
      "Input Text:  Translate to Spanish:  The little girl had been asleep, but she heard the raps and opened the door., Translation:  \n",
      "\n",
      "Translated text:  Translate to Spanish:  The little girl had been asleep, but she heard the raps and opened the door., Translation:  La niña pequeña había estado durmiendo, pero escuchó los golpes y abrió la puerta.\n",
      "\n",
      "\n",
      "Input Text:  Translate to Spanish:  The king is fled in disgrace and your friends are asking for you., Translation:  \n",
      "\n",
      "Translated text:  Translate to Spanish:  The king is fled in disgrace and your friends are asking for you., Translation:  El rey huyó de la desgracia y tus amigos te están pidiendo.\n",
      "\n",
      "Input Text:  Translate to Spanish:  I begged Ruggedo long ago to send him away, but he would not do so., Translation:  \n",
      "\n",
      "Translated text:  Translate to Spanish:  I begged Ruggedo long ago to send him away, but he would not do so., Translation:  Solicité hace mucho a Ruggedo que lo enviara lejos, pero no lo hizo.\n",
      "\n",
      "Input Text:  Translate to Spanish:  I also offered to help your brother to escape, but he would not go., Translation:  \n",
      "\n",
      "Translated text:  Translate to Spanish:  I also offered to help your brother to escape, but he would not go., Translation:  También ofrecí ayudar a escapar a tu hermano, pero no iba.\n",
      "\n",
      "Input Text:  Translate to Spanish:  \"'He eats and sleeps very steadily,' replied the new king.\", Translation:  \n",
      "\n",
      "Translated text:  Translate to Spanish:  \"'He eats and sleeps very steadily,' replied the new king.\", Translation:  \"Comió y durmió muy de manera estable\", respondió el nuevo rey.\n",
      "\n",
      "Input Text:  Translate to Spanish:  I hope it doesn't work too hard, said Shaggy., Translation:  \n",
      "\n",
      "Translated text:  Translate to Spanish:  I hope it doesn't work too hard, said Shaggy., Translation:  Deseo que no funcione demasiado duro, dijo Scooby.\n",
      "\n",
      "Input Text:  Translate to Spanish:  He doesn't work at all., Translation:  \n",
      "\n",
      "Translated text:  Translate to Spanish:  He doesn't work at all., Translation:  No trabaja en lo absoluto.\n",
      "\n",
      "Input Text:  Translate to Spanish:  In fact, there is nothing he can do in these dominions as well as our gnomes, whose numbers are so great that it worries us to keep them all busy., Translation:  \n",
      "\n",
      "Translated text:  Translate to Spanish:  In fact, there is nothing he can do in these dominions as well as our gnomes, whose numbers are so great that it worries us to keep them all busy., Translation:  De hecho, nada puede hacer en estos dominios tampoco nuestros duendes, cuyos números son tan grandes que nos preocupa mantenerlos ocupados.\n",
      "\n",
      "Input Text:  Translate to Spanish:  \"'Not exactly,' returned Calico.', Translation:  \n",
      "\n",
      "Translated text:  Translate to Spanish:  \"'Not exactly,' returned Calico.', Translation:  'No exactamente', respondió Calico.\"\n",
      "\n",
      "Input Text:  Translate to Spanish:  Where is my brother now?, Translation:  \n",
      "\n",
      "Translated text:  Translate to Spanish:  Where is my brother now?, Translation:  ¿Dónde está mi hermano ahora?\n",
      "\n",
      "Input Text:  Translate to Spanish:  Inquired Shaggy. In the metal forest., Translation:  \n",
      "\n",
      "Translated text:  Translate to Spanish:  Inquired Shaggy. In the metal forest., Translation:  Preguntó Shaggy. En el bosque de metal.\n",
      "\n",
      "Input Text:  Translate to Spanish:  Where is that?, Translation:  \n",
      "\n",
      "Translated text:  Translate to Spanish:  Where is that?, Translation:  ¿Dónde está eso?\n",
      "\n"
     ]
    }
   ],
   "source": [
    "# Iterate over each transcription in the list\n",
    "for trans in transcriptions_list:\n",
    "    # Create the English text prompt for translation\n",
    "    english_text = f\" Translate to Spanish: {trans}, Translation: \"\n",
    "\n",
    "    # Tokenize the input prompt\n",
    "    inputs = tokenizer.encode(english_text, return_tensors=\"pt\")\n",
    "\n",
    "    # Generate the translation\n",
    "    inputs[:150]  # Optional: Print the first 150 tokens of the input\n",
    "    outputs = model.generate(inputs, max_length=150, num_beams=5, early_stopping=True)\n",
    "    \n",
    "    # Decode and print the translated text\n",
    "    translated_text = tokenizer.decode(outputs[0], skip_special_tokens=True)\n",
    "    print(\"Input Text:\", english_text)\n",
    "    print(\"Translated text:\", translated_text, \"\\n\")"
   ]
  }
 ],
 "metadata": {
  "kernelspec": {
   "display_name": "base",
   "language": "python",
   "name": "python3"
  },
  "language_info": {
   "codemirror_mode": {
    "name": "ipython",
    "version": 3
   },
   "file_extension": ".py",
   "mimetype": "text/x-python",
   "name": "python",
   "nbconvert_exporter": "python",
   "pygments_lexer": "ipython3",
   "version": "3.11.9"
  }
 },
 "nbformat": 4,
 "nbformat_minor": 2
}
